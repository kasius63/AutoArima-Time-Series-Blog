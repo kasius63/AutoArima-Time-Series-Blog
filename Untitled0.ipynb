{
  "nbformat": 4,
  "nbformat_minor": 0,
  "metadata": {
    "colab": {
      "name": "Untitled0.ipynb",
      "version": "0.3.2",
      "provenance": [],
      "include_colab_link": true
    },
    "kernelspec": {
      "name": "python3",
      "display_name": "Python 3"
    },
    "accelerator": "GPU"
  },
  "cells": [
    {
      "cell_type": "markdown",
      "metadata": {
        "id": "view-in-github",
        "colab_type": "text"
      },
      "source": [
        "[View in Colaboratory](https://colab.research.google.com/github/kasius63/AutoArima-Time-Series-Blog/blob/master/Untitled0.ipynb)"
      ]
    },
    {
      "metadata": {
        "id": "ByZbqD9GbxLT",
        "colab_type": "code",
        "colab": {}
      },
      "cell_type": "code",
      "source": [
        "x=3"
      ],
      "execution_count": 0,
      "outputs": []
    },
    {
      "metadata": {
        "id": "MX8622_Ycqkm",
        "colab_type": "code",
        "colab": {
          "base_uri": "https://localhost:8080/",
          "height": 35
        },
        "outputId": "8864b8e9-a513-49bb-ee3f-b070fd2a5316"
      },
      "cell_type": "code",
      "source": [
        "print(type(x))"
      ],
      "execution_count": 2,
      "outputs": [
        {
          "output_type": "stream",
          "text": [
            "<class 'int'>\n"
          ],
          "name": "stdout"
        }
      ]
    },
    {
      "metadata": {
        "id": "LTVgNZgBcxNc",
        "colab_type": "code",
        "colab": {
          "base_uri": "https://localhost:8080/",
          "height": 35
        },
        "outputId": "4f7d6344-34a3-435a-ece2-72b6298a7c1a"
      },
      "cell_type": "code",
      "source": [
        "print(x)"
      ],
      "execution_count": 3,
      "outputs": [
        {
          "output_type": "stream",
          "text": [
            "3\n"
          ],
          "name": "stdout"
        }
      ]
    },
    {
      "metadata": {
        "id": "Xg6hbRc9czJc",
        "colab_type": "code",
        "colab": {
          "base_uri": "https://localhost:8080/",
          "height": 35
        },
        "outputId": "4ea1aff3-ffcd-49ca-fd70-ed49e6f2216b"
      },
      "cell_type": "code",
      "source": [
        "print(x+1)"
      ],
      "execution_count": 4,
      "outputs": [
        {
          "output_type": "stream",
          "text": [
            "4\n"
          ],
          "name": "stdout"
        }
      ]
    },
    {
      "metadata": {
        "id": "3aqozR8uc1tM",
        "colab_type": "code",
        "colab": {
          "base_uri": "https://localhost:8080/",
          "height": 35
        },
        "outputId": "cf94e5f9-ce65-4fad-98f4-01ad2e9457c5"
      },
      "cell_type": "code",
      "source": [
        "from google.colab import drive\n",
        "drive.mount('/content/drive')"
      ],
      "execution_count": 6,
      "outputs": [
        {
          "output_type": "stream",
          "text": [
            "Mounted at /content/drive\n"
          ],
          "name": "stdout"
        }
      ]
    },
    {
      "metadata": {
        "id": "_AIapZefdFu7",
        "colab_type": "code",
        "colab": {
          "base_uri": "https://localhost:8080/",
          "height": 4105
        },
        "outputId": "17be911c-1063-432c-de20-96a5101e674d"
      },
      "cell_type": "code",
      "source": [
        "!ls \"/content/drive/My Drive/\""
      ],
      "execution_count": 7,
      "outputs": [
        {
          "output_type": "stream",
          "text": [
            " 블루핵해커톤\n",
            " 01_numpy.ipynb\n",
            "'02_07_2.DT_RF_GBM_XGBoost(주말실강의).pptx'\n",
            " 02_statsmodels.ipynb\n",
            " 03_XgBoost.ipynb\n",
            " 04_01_클러스터링_주말강의.pptx\n",
            "'0chain whitepaper.pdf'\n",
            "'아코디언을 활용한 개발생산성 100배 높이기.pptx'\n",
            "'17330d_6f34277f2be841568a916e1a9dea9e33 (1).pdf'\n",
            " 17330d_6f34277f2be841568a916e1a9dea9e33.pdf\n",
            "'기술세미나_코인스택 기반의 블록체인 기초(지갑)개발__ 강의자료(김경훈 블로코 연구원)_180326(공개허용).pdf'\n",
            " 180425_Filecoin.gslides\n",
            "'180530 인터넷진흥원.pdf'\n",
            "'180609 VR'\n",
            "'180619 Cisco Datacenter Summit'\n",
            " 재건축-180619.gsheet\n",
            "'180621-IBM AI Speaker'\n",
            "'181010 Blockchain VR'\n",
            "'181010 Decentraland'\n",
            "'181018 HTML5 and CSS3'\n",
            "'#1-럽파고-이준범님.pdf'\n",
            " 2015100604077_0.jpg\n",
            " 20160629_151050.jpg\n",
            " 20170208_222805.jpg\n",
            " 20170321_130620.jpg\n",
            " 20170615210246440jnaa.jpg\n",
            " 20170615210246624xdxa.jpg\n",
            " 2017-12-08-creativity.pdf\n",
            "'2017년도 정부 창업지원사업 통합공고.gsheet'\n",
            "'2017자연어처리튜토리얼_[강의자료_이창기]딥러닝과 자연어처리 응용.pdf'\n",
            "'2017자연어처리튜토리얼_[강의자료_김강일]신경망 기반 자동번역기술.pdf'\n",
            "'2017자연어처리튜토리얼_[강의자료_정상근]딥러닝개요_및_Sequence_Encoding.pdf'\n",
            " 2018-01-11_Akamai_CDN_DevOps.pptx\n",
            "'20180113 DevOps를 위한 Monitoring v3.pptx'\n",
            "'새 파일 2018-04-20.pdf'\n",
            "'20180509_230150-Me holding Passport.jpg'\n",
            "'20180515140550__00 (1).pdf'\n",
            " 20180515140550__00.pdf\n",
            "'생활탐사_ 파이썬으로 일상에 도움 되는 뉴스 만들기 (파이콘 한국 2018, 2018-08-18).pdf'\n",
            "'[스페셜리포트_2018-3]_EU_ML_신규제메카니즘_설명가능_AI.pdf'\n",
            "'2018년_혁신허브_AI스쿨_R&D리더 양성과정1오리엔테이션(2018_05_03목)_최종.pdf'\n",
            "'2018년_혁신허브_AI스쿨_R&D리더 양성과정1강_영상인식_인간시각계의 모델과 CNN 특징 추측(2018_05_10목)_1.pdf'\n",
            "'2018년_혁신허브_AI스쿨_R&D리더 양성과정 2강_음성인식_인간청각계 정보처리모델과 CNN 특징 추출(2018_05_17).pdf'\n",
            " 2018_devops_meetup.pdf\n",
            "'2018 국제 인공지능 대전 초대권.jpg'\n",
            "'수강신청서 및 개인정보활용동의서(양식수정불가)_2회차(2).hwp'\n",
            "'수강신청서 및 개인정보활용동의서(양식수정불가)_2회차(2).pdf'\n",
            "'%2821차%29_초보개발자_오픈소스_참여하기_세미나_가이드_20180125 (1).pdf'\n",
            " %2821차%29_초보개발자_오픈소스_참여하기_세미나_가이드_20180125.pdf\n",
            "'%2822차%29_딥러닝을_위한_Pytotch_활용법_세미나_가이드_20180207 (1).pdf'\n",
            " %2822차%29_딥러닝을_위한_Pytotch_활용법_세미나_가이드_20180207.pdf\n",
            " %2823차%29_React_Native_개발_세미나_가이드_20180305.pdf\n",
            " %2826차%29_Nodejs_기반의_Rest_API_서버_개발_세미나_가이드_20180410.pdf\n",
            "'29-DevOps 촛점맞추기.pdf'\n",
            " 소프트웨어%2B개발%2B프로세스.pptx\n",
            " 2.-Business-Model-Idea-Canvases-PPT_NB.pptx\n",
            "'2강_Growth Hack 101 정성영_쫄지마창업스쿨.pdf'\n",
            " 유니오-2.png\n",
            " 유니오3.png\n",
            "'&#4352;&#4453;&#4357;&#4450;&#4361;&#4457;&#4370;&#4455;&#4523;&#4370;&#4458;&#4540;&#4352;&#4458;+&#4358;&#4469;&#4357;&#4450;.pdf'\n",
            "'(4차혁명위)스마트시티 추진전략.pdf'\n",
            " 7강_1인커머스창업하기_쫄지마창업스쿨_20171106_성율덕대표님.pdf\n",
            " 752750_core_why_visual_analytics_whitepaper_ko-kr.pdf\n",
            "'8차(non_neural_networks)_KAIST 신진우.pdf'\n",
            "'9차 Unsupervised Learning and Image Search_KAIST 윤성의.pdf'\n",
            " ad-2.jpg\n",
            " ad-3.jpg\n",
            " ad-4.jpg\n",
            "'양재혁신허브_AI스쿨 리더양성과정_실습프로젝트_조편성 최종_180824.xlsx'\n",
            "'혁신허브 AI스쿨 - AI R&D리더 양성과정 실습프로젝트 (응답)_07.09(2).xlsx'\n",
            " AIC_WhitePaper_Eng.pdf\n",
            " AI_Project\n",
            "'AI R&D리더 양성과정 프로젝트 운영 계획.pdf'\n",
            " AIRI-DEMODAY.pdf\n",
            " analytics-analytics-solutions-as-brochure-asb12381krko-20171128.pdf\n",
            " ara-white-paper.pdf\n",
            "'그들이 AWS 위에서 Kubernetes 를 운영하는 방법.gslides'\n",
            "'Azure-Bootcamp-2018-Korea-Afternoon-K8s.pdf - OneDrive'\n",
            "'Azure-Bootcamp-2018-Korea-Morning-MySQL.pdf - OneDrive'\n",
            "'Azure를 이용한 Join 없는 글로벌 분산 시스템 설계하기.pptx - Microsoft PowerPoint Online'\n",
            " base_tic_tac_toe_moves.csv\n",
            " Billing_Address.jpg\n",
            "'Blockchain Governance - TES - v0.1.pdf'\n",
            "'Building a Large Scale Machine Learning-Based Anomaly Detection System, Part 1 - Design Principles (1).pdf'\n",
            "'Building a Large Scale Machine Learning-Based Anomaly Detection System, Part 1 - Design Principles.pdf'\n",
            " building-mobile-applications-with-tensorflow.pdf\n",
            "'Business Survey'\n",
            " Cloud.gsheet\n",
            " Colab\n",
            " Conference\n",
            "'Copy of 양재R&CD혁신허브 AI 스쿨 신청서.gdoc'\n",
            " D1_KT_Usage-of-Blockchain-in-Telco-KT-Case-Study_Yeong-il-Seo.pdf\n",
            " Data+Scientist-Step+by+Step_Guide.pdf\n",
            " daum_gallery_photo_20170518134302.jpg\n",
            " daum_gallery_photo_20170518134347.jpg\n",
            " daum_gallery_photo_20180126065808.jpg\n",
            " DeepBrainChainWhitepaper_EN.pdf\n",
            " deeplearningtextnlpwithspark20170625-170627080426.pdf\n",
            " Designing_Distributed_Systems.pdf\n",
            " devops_2018_pdf.pdf\n",
            " Devops_Art_송주영.pptx\n",
            "'이슈 해결 사례로 알아보는 DevOps FN.pdf'\n",
            " DevOpsKorea-2018_final_2.pptx\n",
            " devops_korea_meetup-이선찬.pdf\n",
            " devops_meetup_2018_gihun_jung_kakao_kfield.pdf\n",
            "'DevOpsMeetUp_Ten Ways Kubernetes Enables DevOps_hykim_20180113.pdf'\n",
            " dkong.zip\n",
            " Docker_야간과외_20180315.pdf\n",
            "'Docker와 Azure Container Service를 활용한 DevOps 구현 사례.pptx'\n",
            " docker-compose-usages-public-170224174113.pdf\n",
            " Document\n",
            "'전략분야 인력양성사업 협약서 & 협약기업 일반현황.docx'\n",
            " ebook\n",
            " %EC%8B%A0%EC%84%B1%EC%9A%B0-06-%EC%84%9C%EC%8B%9C.mp3\n",
            "'Embedded CICD경험-정재준.key'\n",
            "'EOS.IO Storage.pdf'\n",
            "'EOS Wihitepaper.docx'\n",
            " exec.zip\n",
            " f2-120919022113-phpapp02.pdf\n",
            " fastfact-en.pdf\n",
            " filecoin.pdf\n",
            " Finding_and_viewing_reports.pdf\n",
            "'_For Korea long _BitRewards deck.pdf'\n",
            " for-the-perfect-python-development-environment-180526060344.pdf\n",
            " FUTURE9_REPORT_Public.pdf\n",
            " gan_lecture.pdf\n",
            "'Get started (KO) (1).pdf'\n",
            "'Get started (KO).pdf'\n",
            " gift2.jpg\n",
            " Github\n",
            " GMB_White_Paper_Eng.pdf\n",
            "'Google Photos'\n",
            "'전략분야 인력양성사업 협약서 & 협약기업 일반현황.hwp'\n",
            " IBM_PMO_.pdf\n",
            "'I-IOT Router eWON_소개자료.pdf'\n",
            " img_20140304110817_03b3f72e.gif\n",
            " img_20140304111851_1654a6b7.gif\n",
            " img_20140304122620_ac42a735.gif\n",
            " ipfs-master.zip\n",
            "'JD for Korea DX Lead.pdf'\n",
            " 다운로드.jpeg\n",
            "'K4-U 매뉴얼.pdf'\n",
            " kings_whitepaper_en.pdf\n",
            " KR_Deep_Learning_ebook.pdf\n",
            " Kubernetes_jgkong_v2.pdf\n",
            " kumamotohololensmeetupvol-180703125818.pdf\n",
            " LeafNet.pdf\n",
            "'Lean Canvas 1st Terraversity.jpg'\n",
            "'lec11_gan (1).pdf'\n",
            " lec11_gan.pdf\n",
            "'lec12_vae (1).pdf'\n",
            " lec12_vae.pdf\n",
            " lightPaper_ko.pdf\n",
            " Magazine\n",
            "'Markspace ppt.pdf'\n",
            "'한송이 꿈-이수만.mp3'\n",
            " mrdo.zip\n",
            "'Multicloud 기반의 Continuous Delivery 와 Infrastructure as Code_20171229.pdf'\n",
            " Music\n",
            " neo4jandpython-pycon2014-140907143131-phpapp02.pdf\n",
            "'NFV PLU TDs.gsheet'\n",
            " open3dslam-180630050637.pdf\n",
            "'Openstack Admin.gslides'\n",
            " Opiria-PDATA-Whitepaper.pdf\n",
            " P32852_Watson_IOT_Whitepaper_03.pdf\n",
            "'Packet Capture'\n",
            " pagecounts_20160108_11\n",
            "'테라폼 공개용.pdf'\n",
            " 다시분석.pdf\n",
            "'인공지능과 데이터 산업의 미래.pdf'\n",
            "'P-Epilogue: What'\\''s the next?.gslides'\n",
            "'Performance Data per Region (Samsung-share).gsheet'\n",
            " Personal\n",
            " Photo\n",
            "'pitch_20_02_2018_AT - 004 JiaeKim.pptx'\n",
            " Pokemon.csv\n",
            " Postechx\n",
            "'중간발표 템플렛_PPT.pptx'\n",
            " pycon2018-datascienceatshopify1-180515173331.pdf\n",
            " PyConKR2018_tutorial\n",
            "'Python으로 구현한 모바일 로봇 지능 slides.gslides'\n",
            " random-160722004106.pdf\n",
            "'양재R&CD혁신허브 AI 스쿨 신청서.gdoc'\n",
            "'인공지능 R&D 리더 양성과정_조편성_181004.gsheet'\n",
            "'인공지능 R&D 리더 양성과정_조편성_181004.xlsx'\n",
            " rdata.pdf\n",
            " Reference\n",
            " results-20170711-182044.csv\n",
            " results-20170711-183311.csv\n",
            " results-20170711-183653.csv.gsheet\n",
            " results-20170711-184428.csv.gsheet\n",
            " rmx_radoop-ANY-8.1.0.jar\n",
            " SAMSUNG_MEMO\n",
            "'secret note.pptx'\n",
            " Sharpay_Presentation_final_en.pdf\n",
            " sia.pdf\n",
            "'SIX-whitepaper-en (1).pdf'\n",
            " SIX-whitepaper-en.pdf\n",
            "'SKT Training'\n",
            " Smartphone.gsheet\n",
            " StreamSpace_White_Paper.pdf\n",
            "'Tableau Test Drive 2018.1 - Completed.twbx'\n",
            " temp\n",
            " template.gslides\n",
            " tensorflowExample.zip\n",
            " theREASONMethodDamianMingle.png\n",
            " Track1-06_정윤진.pdf\n",
            " Trading\n",
            " Untitled.jpg\n",
            "'Untitled Report'\n",
            "'Untitled spreadsheet (1).gsheet'\n",
            "'Untitled spreadsheet.gsheet'\n",
            " Utility\n",
            "'디지털 미래서울V0l.1_최종_단면.pdf'\n",
            " Video\n",
            " virtualizing-the-network-report-nv-europe-2018.original.pdf\n",
            "'VR 과정 신청서 2018-05-21.jpg'\n",
            "'whitepaper (1).pdf'\n",
            " whitepaper_eng.pdf\n",
            " whitepaper-en.pdf\n",
            " whitePaper_ko.pdf\n",
            " whitepaper.pdf\n",
            "'WiderPlanet_TG360_lecture Q1 2018_공유.pdf'\n",
            "'wp_bringing_ai_ to_bi_enhancing_tableau (1).pdf'\n",
            "'wp_bringing_ai_ to_bi_enhancing_tableau.pdf'\n",
            " YongseokPark_Passport.jpg\n"
          ],
          "name": "stdout"
        }
      ]
    },
    {
      "metadata": {
        "id": "MfitldWteGQ8",
        "colab_type": "code",
        "colab": {}
      },
      "cell_type": "code",
      "source": [
        "!pip install -q keras"
      ],
      "execution_count": 0,
      "outputs": []
    },
    {
      "metadata": {
        "id": "SwIfV_MPeMbU",
        "colab_type": "code",
        "colab": {
          "base_uri": "https://localhost:8080/",
          "height": 829
        },
        "outputId": "7d77eff8-d7e6-412d-940c-3f41bc2646b3"
      },
      "cell_type": "code",
      "source": [
        "!python3 \"/content/drive/My Drive/Colab/mnist_cnn.py\""
      ],
      "execution_count": 25,
      "outputs": [
        {
          "output_type": "stream",
          "text": [
            "Using TensorFlow backend.\n",
            "Downloading data from https://s3.amazonaws.com/img-datasets/mnist.npz\n",
            "11493376/11490434 [==============================] - 1s 0us/step\n",
            "x_train shape: (60000, 28, 28, 1)\n",
            "60000 train samples\n",
            "10000 test samples\n",
            "Train on 60000 samples, validate on 10000 samples\n",
            "Epoch 1/12\n",
            "2018-10-19 13:38:09.825368: I tensorflow/stream_executor/cuda/cuda_gpu_executor.cc:964] successful NUMA node read from SysFS had negative value (-1), but there must be at least one NUMA node, so returning NUMA node zero\n",
            "2018-10-19 13:38:09.825863: I tensorflow/core/common_runtime/gpu/gpu_device.cc:1411] Found device 0 with properties: \n",
            "name: Tesla K80 major: 3 minor: 7 memoryClockRate(GHz): 0.8235\n",
            "pciBusID: 0000:00:04.0\n",
            "totalMemory: 11.17GiB freeMemory: 11.10GiB\n",
            "2018-10-19 13:38:09.825909: I tensorflow/core/common_runtime/gpu/gpu_device.cc:1490] Adding visible gpu devices: 0\n",
            "2018-10-19 13:38:10.214193: I tensorflow/core/common_runtime/gpu/gpu_device.cc:971] Device interconnect StreamExecutor with strength 1 edge matrix:\n",
            "2018-10-19 13:38:10.214254: I tensorflow/core/common_runtime/gpu/gpu_device.cc:977]      0 \n",
            "2018-10-19 13:38:10.214277: I tensorflow/core/common_runtime/gpu/gpu_device.cc:990] 0:   N \n",
            "2018-10-19 13:38:10.214533: W tensorflow/core/common_runtime/gpu/gpu_bfc_allocator.cc:42] Overriding allow_growth setting because the TF_FORCE_GPU_ALLOW_GROWTH environment variable is set. Original config value was 0.\n",
            "2018-10-19 13:38:10.214594: I tensorflow/core/common_runtime/gpu/gpu_device.cc:1103] Created TensorFlow device (/job:localhost/replica:0/task:0/device:GPU:0 with 10758 MB memory) -> physical GPU (device: 0, name: Tesla K80, pci bus id: 0000:00:04.0, compute capability: 3.7)\n",
            "60000/60000 [==============================] - 10s 174us/step - loss: 0.2501 - acc: 0.9228 - val_loss: 0.0502 - val_acc: 0.9821\n",
            "Epoch 2/12\n",
            "60000/60000 [==============================] - 8s 141us/step - loss: 0.0830 - acc: 0.9754 - val_loss: 0.0371 - val_acc: 0.9880\n",
            "Epoch 3/12\n",
            "60000/60000 [==============================] - 8s 141us/step - loss: 0.0622 - acc: 0.9822 - val_loss: 0.0361 - val_acc: 0.9876\n",
            "Epoch 4/12\n",
            "60000/60000 [==============================] - 8s 141us/step - loss: 0.0518 - acc: 0.9844 - val_loss: 0.0300 - val_acc: 0.9900\n",
            "Epoch 5/12\n",
            "60000/60000 [==============================] - 9s 142us/step - loss: 0.0454 - acc: 0.9860 - val_loss: 0.0278 - val_acc: 0.9902\n",
            "Epoch 6/12\n",
            "60000/60000 [==============================] - 9s 142us/step - loss: 0.0407 - acc: 0.9874 - val_loss: 0.0264 - val_acc: 0.9911\n",
            "Epoch 7/12\n",
            "60000/60000 [==============================] - 9s 142us/step - loss: 0.0368 - acc: 0.9893 - val_loss: 0.0269 - val_acc: 0.9908\n",
            "Epoch 8/12\n",
            "60000/60000 [==============================] - 9s 142us/step - loss: 0.0333 - acc: 0.9896 - val_loss: 0.0255 - val_acc: 0.9918\n",
            "Epoch 9/12\n",
            "60000/60000 [==============================] - 8s 141us/step - loss: 0.0307 - acc: 0.9901 - val_loss: 0.0258 - val_acc: 0.9916\n",
            "Epoch 10/12\n",
            "60000/60000 [==============================] - 8s 141us/step - loss: 0.0276 - acc: 0.9914 - val_loss: 0.0311 - val_acc: 0.9902\n",
            "Epoch 11/12\n",
            "60000/60000 [==============================] - 8s 141us/step - loss: 0.0259 - acc: 0.9917 - val_loss: 0.0255 - val_acc: 0.9917\n",
            "Epoch 12/12\n",
            "60000/60000 [==============================] - 8s 141us/step - loss: 0.0266 - acc: 0.9916 - val_loss: 0.0288 - val_acc: 0.9908\n",
            "Test loss: 0.02880838026515248\n",
            "Test accuracy: 0.9908\n"
          ],
          "name": "stdout"
        }
      ]
    },
    {
      "metadata": {
        "id": "MMlDuLnikC9z",
        "colab_type": "code",
        "colab": {
          "base_uri": "https://localhost:8080/",
          "height": 35
        },
        "outputId": "d809df8d-50a4-4e85-e532-f6ed76af96c9"
      },
      "cell_type": "code",
      "source": [
        "!git clone https://github.com/wxs/keras-mnist-tutorial.git"
      ],
      "execution_count": 27,
      "outputs": [
        {
          "output_type": "stream",
          "text": [
            "fatal: destination path 'keras-mnist-tutorial' already exists and is not an empty directory.\n"
          ],
          "name": "stdout"
        }
      ]
    },
    {
      "metadata": {
        "id": "kUaXN2c1lD-M",
        "colab_type": "code",
        "colab": {
          "base_uri": "https://localhost:8080/",
          "height": 35
        },
        "outputId": "4d96569c-0d40-4205-ef44-124fe2e301b5"
      },
      "cell_type": "code",
      "source": [
        "!git  https://github.com/wxs/keras-mnist-tutorial.git"
      ],
      "execution_count": 28,
      "outputs": [
        {
          "output_type": "stream",
          "text": [
            "fatal: destination path 'keras-mnist-tutorial' already exists and is not an empty directory.\n"
          ],
          "name": "stdout"
        }
      ]
    },
    {
      "metadata": {
        "id": "pyKvXpFEg1W9",
        "colab_type": "code",
        "colab": {
          "base_uri": "https://localhost:8080/",
          "height": 235
        },
        "outputId": "26f57b1a-db9c-4424-eda4-917c09361a6f"
      },
      "cell_type": "code",
      "source": [
        "!wget https://raw.githubusercontent.com/vincentarelbundock/Rdatasets/master/csv/datasets/Titanic.csv -P \"/content/drive/My Drive/Colab\""
      ],
      "execution_count": 14,
      "outputs": [
        {
          "output_type": "stream",
          "text": [
            "--2018-10-19 13:30:10--  https://raw.githubusercontent.com/vincentarelbundock/Rdatasets/master/csv/datasets/Titanic.csv\n",
            "Resolving raw.githubusercontent.com (raw.githubusercontent.com)... 151.101.0.133, 151.101.64.133, 151.101.128.133, ...\n",
            "Connecting to raw.githubusercontent.com (raw.githubusercontent.com)|151.101.0.133|:443... connected.\n",
            "HTTP request sent, awaiting response... 200 OK\n",
            "Length: 1170 (1.1K) [text/plain]\n",
            "Saving to: ‘/content/drive/My Drive/Colab/Titanic.csv’\n",
            "\n",
            "\rTitanic.csv           0%[                    ]       0  --.-KB/s               \rTitanic.csv         100%[===================>]   1.14K  --.-KB/s    in 0s      \n",
            "\n",
            "2018-10-19 13:30:10 (85.6 MB/s) - ‘/content/drive/My Drive/Colab/Titanic.csv’ saved [1170/1170]\n",
            "\n"
          ],
          "name": "stdout"
        }
      ]
    },
    {
      "metadata": {
        "id": "N7xM11yXhgh1",
        "colab_type": "text"
      },
      "cell_type": "markdown",
      "source": [
        ""
      ]
    },
    {
      "metadata": {
        "id": "eQK7lbLShXYU",
        "colab_type": "code",
        "colab": {
          "base_uri": "https://localhost:8080/",
          "height": 204
        },
        "outputId": "f34b30ce-2add-4bad-9f22-0896c383b6d1"
      },
      "cell_type": "code",
      "source": [
        "import pandas as pd\n",
        "titanic = pd.read_csv(\"/content/drive/My Drive/Colab/Titanic.csv\")\n",
        "titanic.head(5)"
      ],
      "execution_count": 23,
      "outputs": [
        {
          "output_type": "execute_result",
          "data": {
            "text/html": [
              "<div>\n",
              "<style scoped>\n",
              "    .dataframe tbody tr th:only-of-type {\n",
              "        vertical-align: middle;\n",
              "    }\n",
              "\n",
              "    .dataframe tbody tr th {\n",
              "        vertical-align: top;\n",
              "    }\n",
              "\n",
              "    .dataframe thead th {\n",
              "        text-align: right;\n",
              "    }\n",
              "</style>\n",
              "<table border=\"1\" class=\"dataframe\">\n",
              "  <thead>\n",
              "    <tr style=\"text-align: right;\">\n",
              "      <th></th>\n",
              "      <th>Unnamed: 0</th>\n",
              "      <th>Class</th>\n",
              "      <th>Sex</th>\n",
              "      <th>Age</th>\n",
              "      <th>Survived</th>\n",
              "      <th>Freq</th>\n",
              "    </tr>\n",
              "  </thead>\n",
              "  <tbody>\n",
              "    <tr>\n",
              "      <th>0</th>\n",
              "      <td>1</td>\n",
              "      <td>1st</td>\n",
              "      <td>Male</td>\n",
              "      <td>Child</td>\n",
              "      <td>No</td>\n",
              "      <td>0</td>\n",
              "    </tr>\n",
              "    <tr>\n",
              "      <th>1</th>\n",
              "      <td>2</td>\n",
              "      <td>2nd</td>\n",
              "      <td>Male</td>\n",
              "      <td>Child</td>\n",
              "      <td>No</td>\n",
              "      <td>0</td>\n",
              "    </tr>\n",
              "    <tr>\n",
              "      <th>2</th>\n",
              "      <td>3</td>\n",
              "      <td>3rd</td>\n",
              "      <td>Male</td>\n",
              "      <td>Child</td>\n",
              "      <td>No</td>\n",
              "      <td>35</td>\n",
              "    </tr>\n",
              "    <tr>\n",
              "      <th>3</th>\n",
              "      <td>4</td>\n",
              "      <td>Crew</td>\n",
              "      <td>Male</td>\n",
              "      <td>Child</td>\n",
              "      <td>No</td>\n",
              "      <td>0</td>\n",
              "    </tr>\n",
              "    <tr>\n",
              "      <th>4</th>\n",
              "      <td>5</td>\n",
              "      <td>1st</td>\n",
              "      <td>Female</td>\n",
              "      <td>Child</td>\n",
              "      <td>No</td>\n",
              "      <td>0</td>\n",
              "    </tr>\n",
              "  </tbody>\n",
              "</table>\n",
              "</div>"
            ],
            "text/plain": [
              "   Unnamed: 0 Class     Sex    Age Survived  Freq\n",
              "0           1   1st    Male  Child       No     0\n",
              "1           2   2nd    Male  Child       No     0\n",
              "2           3   3rd    Male  Child       No    35\n",
              "3           4  Crew    Male  Child       No     0\n",
              "4           5   1st  Female  Child       No     0"
            ]
          },
          "metadata": {
            "tags": []
          },
          "execution_count": 23
        }
      ]
    }
  ]
}